{
 "cells": [
  {
   "cell_type": "code",
   "execution_count": 90,
   "metadata": {},
   "outputs": [
    {
     "name": "stdout",
     "output_type": "stream",
     "text": [
      "{'people': [{'firstName': 'Joe', 'lastName': 'Jackson', 'gender': 'male', 'age': 28, 'number': '7349282382'}, {'firstName': 'James', 'lastName': 'Smith', 'gender': 'male', 'age': 32, 'number': '5678568567'}, {'firstName': 'Emily', 'lastName': 'Jones', 'gender': 'female', 'age': 24, 'number': '456754675'}]}\n",
      "\n",
      "\n",
      "{'number': '9999999999', 'firstName': 'Random', 'lastName': 'Random', 'age': 'XX'}\n",
      "<class 'dict'>\n",
      "\n",
      "\n",
      "[{'firstName': 'Joe', 'lastName': 'Jackson', 'gender': 'male', 'age': 28, 'number': '7349282382'}, {'firstName': 'James', 'lastName': 'Smith', 'gender': 'male', 'age': 32, 'number': '5678568567'}, {'firstName': 'Emily', 'lastName': 'Jones', 'gender': 'female', 'age': 24, 'number': '456754675'}]\n",
      "\n",
      "\n",
      "[{'firstName': 'Nnj', 'lastName': 'Jukmnil', 'gender': 'male', 'age': 'XX', 'number': '9999999999'}, {'firstName': 'Lvfmj', 'lastName': 'Clrnv', 'gender': 'male', 'age': 'XX', 'number': '9999999999'}, {'firstName': 'Pklpl', 'lastName': 'Bbpsv', 'gender': 'female', 'age': 'XX', 'number': '9999999999'}]\n",
      "\n",
      "\n",
      "{'people': [{'firstName': 'Nnj', 'lastName': 'Jukmnil', 'gender': 'male', 'age': 'XX', 'number': '9999999999'}, {'firstName': 'Lvfmj', 'lastName': 'Clrnv', 'gender': 'male', 'age': 'XX', 'number': '9999999999'}, {'firstName': 'Pklpl', 'lastName': 'Bbpsv', 'gender': 'female', 'age': 'XX', 'number': '9999999999'}]}\n"
     ]
    }
   ],
   "source": [
    "import json\n",
    "import paranoid\n",
    "import copy\n",
    "import os\n",
    " \n",
    "\n",
    "#Step1- reading from JSON File to Python Object\n",
    "with open(\"file1.json\",'rb') as  f:\n",
    "    one=json.load(f)\n",
    "\n",
    "print(one)\n",
    "print(\"\\n\")\n",
    "two=copy.deepcopy(one)\n",
    "\n",
    "\n",
    "with open(\"rules.txt\",'r') as  g:\n",
    "    three=g.read()\n",
    "    \n",
    "four= eval(three)\n",
    "\n",
    "    \n",
    "\n",
    "print(four)\n",
    "print(type(four))\n",
    "print(\"\\n\")\n",
    "\n",
    "\n",
    "for key in one.keys():\n",
    "    value=one[key]\n",
    "    print(value)\n",
    "    i=0\n",
    "    while i<len(value):\n",
    "        \n",
    "        for d in value:\n",
    "            \n",
    "            for k,v in d.items():\n",
    "                for x in four.keys():\n",
    "                    if x==k:\n",
    "                        if four[x]=='Random':\n",
    "                            d[k]=paranoid.maskGenerator(str(d[k]),is_json=True)\n",
    "                        else:\n",
    "                            d[k]=four[x]\n",
    "        \n",
    "        \n",
    "        i+=1\n",
    "print(\"\\n\")\n",
    "print(value)\n",
    "    \n",
    "print(\"\\n\")\n",
    "print(one)\n",
    "\n",
    "with open(\"file2.json\",\"w\") as b:\n",
    "    json.dump(one,b,indent=2)"
   ]
  },
  {
   "cell_type": "code",
   "execution_count": null,
   "metadata": {},
   "outputs": [],
   "source": []
  },
  {
   "cell_type": "code",
   "execution_count": null,
   "metadata": {},
   "outputs": [],
   "source": [
    "\n"
   ]
  },
  {
   "cell_type": "code",
   "execution_count": null,
   "metadata": {},
   "outputs": [],
   "source": []
  }
 ],
 "metadata": {
  "kernelspec": {
   "display_name": "Python 3",
   "language": "python",
   "name": "python3"
  },
  "language_info": {
   "codemirror_mode": {
    "name": "ipython",
    "version": 3
   },
   "file_extension": ".py",
   "mimetype": "text/x-python",
   "name": "python",
   "nbconvert_exporter": "python",
   "pygments_lexer": "ipython3",
   "version": "3.8.5"
  }
 },
 "nbformat": 4,
 "nbformat_minor": 4
}
